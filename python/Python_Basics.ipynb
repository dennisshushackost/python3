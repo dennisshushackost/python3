{
 "cells": [
  {
   "cell_type": "markdown",
   "metadata": {},
   "source": [
    "## Python Fundamentals\n",
    "### Numbers and Math\n",
    "We have two main types of numbers. These are integers and floats. \n",
    "Integers are whole numbers (-100, 100 etc.). Floating points have decimals after them."
   ]
  },
  {
   "cell_type": "code",
   "execution_count": 18,
   "metadata": {},
   "outputs": [
    {
     "name": "stdout",
     "output_type": "stream",
     "text": [
      "<class 'int'>\n",
      "<class 'float'>\n"
     ]
    },
    {
     "data": {
      "text/plain": [
       "2.0"
      ]
     },
     "execution_count": 18,
     "metadata": {},
     "output_type": "execute_result"
    }
   ],
   "source": [
    "print(type(12))\n",
    "print(type(1.1))\n",
    "1 + 1.0"
   ]
  },
  {
   "cell_type": "markdown",
   "metadata": {},
   "source": [
    "---\n",
    "**Everything in Python is an Object**\n",
    "\n",
    "What are objects in Python:\n",
    "Entities are created by Python. They have a state (data) & a functionality. This means this object encapsulates both state & functionality. \n",
    "\n",
    "An int has a state (value) and a (functionality). There is a dunder method in Python which allows to operate on the state i.e., addition (__add__)\n",
    "\n",
    "Floats are also objects: state -> value and functionality: __add__. We an also ask for the interger ratio. Any data type in Python is an object. \n",
    "\n",
    "We use dot notation to access all the state and functions and adding additional parameters. I.e. car.brand -> Access the brand attribute or car.accelerate (10,'mph')\n",
    "\n",
    "**Mutability & Immutability**\n",
    "* An object is mutable is its internal state can be changed (one or nore data attributes can be changed):\n",
    "    * Lists, Dictionnairies or Sets\n",
    "* An object is immutable if the internal state cannot be changed: \n",
    "    * Integers, floats, boolean, Strings etc. \n",
    "\n",
    "---"
   ]
  },
  {
   "cell_type": "code",
   "execution_count": 2,
   "metadata": {},
   "outputs": [
    {
     "name": "stdout",
     "output_type": "stream",
     "text": [
      "(1, 8)\n"
     ]
    }
   ],
   "source": [
    "(10).__add__(20) # Integer object for adding \n",
    "print((0.125).as_integer_ratio()) # Same as 1/8 "
   ]
  },
  {
   "cell_type": "markdown",
   "metadata": {},
   "source": [
    "---\n",
    "**Assigning Names (Variable Assignment)**\n",
    "\n",
    "To assign a label to an object we use the assignment operator `=`.\n",
    "`account_balance = 100`or `apy=100`. Here we assign the label apy to the object 0.25. Similary, apy is a reference to the object 0.25. It is important to note, that the reference can change over time. So we could assign `apy = True`. The state of the object the symbol references can change (mutable). I.e., the list a = [1,2,3]. If we append 4 to the list, its state changes. \n",
    "\n",
    "* Python evaluates the RHS of the expression i.e. 0.25.\n",
    "    * Then it assigns the result to the label (LHS Label)\n",
    "    * The RHS can be more complex than just a literal. "
   ]
  },
  {
   "cell_type": "code",
   "execution_count": 3,
   "metadata": {},
   "outputs": [],
   "source": [
    "pi = 3.1414\n",
    "radius = 1\n",
    "circ = 2 * pi * radius # Circ now points to 6. 283. \n",
    "radius = 2 # We now change the radius, however this has no change on circ"
   ]
  },
  {
   "cell_type": "markdown",
   "metadata": {},
   "source": [
    "Variable names:\n",
    "* Case sensitive: apr is not the same as APR\n",
    "* start with undercore (_) or a letter (a-z, A-Z)\n",
    "* followed by any number of underscores or letters or digits\n",
    "* Do not name own variables with __ (Dunder methods)\n",
    "* Reserved words: True, False, if, def, and, or etc. \n",
    "\n",
    "PEP 8 Style Guide: \n",
    "* Camel Case: Small letter after large: i.e., `camelCase`\n",
    "* Snake case: Seperate words are distinguished by underscores: `account_balance`\n",
    "For standard variables we should use snake case with all lower case letters. "
   ]
  },
  {
   "cell_type": "code",
   "execution_count": 7,
   "metadata": {},
   "outputs": [
    {
     "name": "stdout",
     "output_type": "stream",
     "text": [
      "100 111\n",
      "3.14\n"
     ]
    }
   ],
   "source": [
    "# Variables:\n",
    "a = 100\n",
    "b = a + 11\n",
    "print(a,b)\n",
    "\n",
    "# Reassignment: \n",
    "a = 3.14\n",
    "print(a)\n",
    "\n",
    "# Good naming conventions: \n"
   ]
  },
  {
   "cell_type": "markdown",
   "metadata": {},
   "source": []
  },
  {
   "cell_type": "markdown",
   "metadata": {},
   "source": [
    "We can do different mathematical operations. If any part of the expression is a *float* the end result is also a float.\n",
    "We have different operators:\n",
    "* (+): Addition, (-) Subtraction, (*) Multiplication, (/) Division, (**) Exponent, (%) Modulo operation, (//) Integer Division\n",
    "* The order of operation: P: Parenthesis, E: Exponents, M: Multiplication, D: Division, A: Addition, S: Subtraction"
   ]
  },
  {
   "cell_type": "code",
   "execution_count": 21,
   "metadata": {},
   "outputs": [
    {
     "data": {
      "text/plain": [
       "0.5"
      ]
     },
     "execution_count": 21,
     "metadata": {},
     "output_type": "execute_result"
    }
   ],
   "source": [
    "1/2 # This will be a float"
   ]
  },
  {
   "cell_type": "code",
   "execution_count": 24,
   "metadata": {},
   "outputs": [
    {
     "data": {
      "text/plain": [
       "18"
      ]
     },
     "execution_count": 24,
     "metadata": {},
     "output_type": "execute_result"
    }
   ],
   "source": [
    "2**(2 * 2) + 2"
   ]
  },
  {
   "cell_type": "code",
   "execution_count": 30,
   "metadata": {},
   "outputs": [
    {
     "data": {
      "text/plain": [
       "8"
      ]
     },
     "execution_count": 30,
     "metadata": {},
     "output_type": "execute_result"
    }
   ],
   "source": [
    "2 ** 3  # This gives us the exponent"
   ]
  },
  {
   "cell_type": "code",
   "execution_count": 31,
   "metadata": {},
   "outputs": [
    {
     "data": {
      "text/plain": [
       "7.0"
      ]
     },
     "execution_count": 31,
     "metadata": {},
     "output_type": "execute_result"
    }
   ],
   "source": [
    "49 ** 0.5 # The square root"
   ]
  },
  {
   "cell_type": "code",
   "execution_count": 32,
   "metadata": {},
   "outputs": [
    {
     "data": {
      "text/plain": [
       "1"
      ]
     },
     "execution_count": 32,
     "metadata": {},
     "output_type": "execute_result"
    }
   ],
   "source": [
    "10 % 3 # Gives us the remainder"
   ]
  },
  {
   "cell_type": "code",
   "execution_count": 34,
   "metadata": {},
   "outputs": [
    {
     "name": "stdout",
     "output_type": "stream",
     "text": [
      "0\n",
      "1\n"
     ]
    }
   ],
   "source": [
    "# We can see if a number is even or odd:\n",
    "print(16%2) # Even\n",
    "print(17%2) # Odd"
   ]
  },
  {
   "cell_type": "code",
   "execution_count": 36,
   "metadata": {},
   "outputs": [
    {
     "data": {
      "text/plain": [
       "3"
      ]
     },
     "execution_count": 36,
     "metadata": {},
     "output_type": "execute_result"
    }
   ],
   "source": [
    "10 //3 # This rounds it down to an integer"
   ]
  },
  {
   "cell_type": "markdown",
   "metadata": {},
   "source": [
    "### Comments in Python"
   ]
  },
  {
   "cell_type": "code",
   "execution_count": 27,
   "metadata": {},
   "outputs": [
    {
     "name": "stdout",
     "output_type": "stream",
     "text": [
      "0.3333333333333333\n"
     ]
    }
   ],
   "source": [
    "print(1/3) # division returns floats, even when dividing two ints "
   ]
  },
  {
   "cell_type": "markdown",
   "metadata": {},
   "source": [
    "### Variables in Python \n",
    "A variable in Python is like a variable in mathematics. It is a named symbol that holds a value. \n",
    "* `x=100`\n",
    "* `khalessi_mother_of_dragons`= 1"
   ]
  },
  {
   "cell_type": "code",
   "execution_count": 39,
   "metadata": {},
   "outputs": [
    {
     "name": "stdout",
     "output_type": "stream",
     "text": [
      "23 100\n"
     ]
    }
   ],
   "source": [
    "pyton_is_awsome = 100\n",
    "another_variable = pyton_is_awsome\n",
    "pyton_is_awsome = 23\n",
    "print(pyton_is_awsome, another_variable)\n",
    "all, at, once = 5, 10, 15\n"
   ]
  },
  {
   "cell_type": "code",
   "execution_count": null,
   "metadata": {},
   "outputs": [],
   "source": []
  }
 ],
 "metadata": {
  "kernelspec": {
   "display_name": ".venv",
   "language": "python",
   "name": "python3"
  },
  "language_info": {
   "codemirror_mode": {
    "name": "ipython",
    "version": 3
   },
   "file_extension": ".py",
   "mimetype": "text/x-python",
   "name": "python",
   "nbconvert_exporter": "python",
   "pygments_lexer": "ipython3",
   "version": "3.9.6"
  }
 },
 "nbformat": 4,
 "nbformat_minor": 2
}
