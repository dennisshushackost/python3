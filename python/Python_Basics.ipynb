{
 "cells": [
  {
   "cell_type": "markdown",
   "metadata": {},
   "source": [
    "## Python Fundamentals\n",
    "### Numbers and Math\n",
    "We have two main types of numbers. These are integers and floats. \n",
    "Integers are whole numbers (-100, 100 etc.). Floating points have decimals after them."
   ]
  },
  {
   "cell_type": "code",
   "execution_count": 18,
   "metadata": {},
   "outputs": [
    {
     "name": "stdout",
     "output_type": "stream",
     "text": [
      "<class 'int'>\n",
      "<class 'float'>\n"
     ]
    },
    {
     "data": {
      "text/plain": [
       "2.0"
      ]
     },
     "execution_count": 18,
     "metadata": {},
     "output_type": "execute_result"
    }
   ],
   "source": [
    "print(type(12))\n",
    "print(type(1.1))\n",
    "1 + 1.0"
   ]
  },
  {
   "cell_type": "markdown",
   "metadata": {},
   "source": [
    "---\n",
    "**Everything in Python is an Object**\n",
    "\n",
    "What are objects in Python:\n",
    "Entities are created by Python. They have a state (data) & a functionality. This means this object encapsulates both state & functionality. \n",
    "\n",
    "An int has a state (value) and a (functionality). There is a dunder method in Python which allows to operate on the state i.e., addition (__add__)\n",
    "\n",
    "Floats are also objects: state -> value and functionality: __add__. We an also ask for the interger ratio. Any data type in Python is an object. \n",
    "\n",
    "We use dot notation to access all the state and functions and adding additional parameters. I.e. car.brand -> Access the brand attribute or car.accelerate (10,'mph')\n",
    "\n",
    "**Mutability & Immutability**\n",
    "* An object is mutable is its internal state can be changed (one or nore data attributes can be changed):\n",
    "    * Lists, Dictionnairies or Sets\n",
    "* An object is immutable if the internal state cannot be changed: \n",
    "    * Integers, floats, boolean, Strings etc. \n",
    "\n",
    "---"
   ]
  },
  {
   "cell_type": "code",
   "execution_count": 2,
   "metadata": {},
   "outputs": [
    {
     "name": "stdout",
     "output_type": "stream",
     "text": [
      "(1, 8)\n"
     ]
    }
   ],
   "source": [
    "(10).__add__(20) # Integer object for adding \n",
    "print((0.125).as_integer_ratio()) # Same as 1/8 "
   ]
  },
  {
   "cell_type": "markdown",
   "metadata": {},
   "source": [
    "---\n",
    "**Assigning Names (Variable Assignment)**\n",
    "\n",
    "To assign a label to an object we use the assignment operator `=`.\n",
    "`account_balance = 100`or `apy=100`. Here we assign the label apy to the object 0.25. Similary, apy is a reference to the object 0.25. It is important to note, that the reference can change over time. So we could assign `apy = True`. The state of the object the symbol references can change (mutable). I.e., the list a = [1,2,3]. If we append 4 to the list, its state changes. \n",
    "\n",
    "* Python evaluates the RHS of the expression i.e. 0.25.\n",
    "    * Then it assigns the result to the label (LHS Label)\n",
    "    * The RHS can be more complex than just a literal. "
   ]
  },
  {
   "cell_type": "code",
   "execution_count": 3,
   "metadata": {},
   "outputs": [],
   "source": [
    "pi = 3.1414\n",
    "radius = 1\n",
    "circ = 2 * pi * radius # Circ now points to 6. 283. \n",
    "radius = 2 # We now change the radius, however this has no change on circ"
   ]
  },
  {
   "cell_type": "markdown",
   "metadata": {},
   "source": [
    "Variable names:\n",
    "* Case sensitive: apr is not the same as APR\n",
    "* start with undercore (_) or a letter (a-z, A-Z)\n",
    "* followed by any number of underscores or letters or digits\n",
    "* Do not name own variables with __ (Dunder methods)\n",
    "* Reserved words: True, False, if, def, and, or etc. Do not overwrite them.\n",
    "\n",
    "PEP 8 Style Guide: \n",
    "* Camel Case: Small letter after large: i.e., `camelCase`\n",
    "* Snake case: Seperate words are distinguished by underscores: `account_balance`\n",
    "* Make sure to give meaningfull names to your variables. \n",
    "For standard variables we should use snake case with all lower case letters. "
   ]
  },
  {
   "cell_type": "code",
   "execution_count": 10,
   "metadata": {},
   "outputs": [
    {
     "name": "stdout",
     "output_type": "stream",
     "text": [
      "100 111\n",
      "3.14\n",
      "10.0\n",
      "270.70414908622433\n"
     ]
    }
   ],
   "source": [
    "# Variables:\n",
    "a = 100\n",
    "b = a + 11\n",
    "print(a,b)\n",
    "\n",
    "# Reassignment: \n",
    "a = 3.14\n",
    "print(a)\n",
    "\n",
    "# Convert to a float: \n",
    "a = float(10)\n",
    "print(a)\n",
    "\n",
    "# Snake case + Meaningfull name:\n",
    "current_balance = 100\n",
    "current_balance\n",
    "\n",
    "principal = 100\n",
    "apr = 0.1\n",
    "years = 10\n",
    "\n",
    "future_value = principal * ((1 + apr/12) ** (years * 12))\n",
    "print(future_value)"
   ]
  },
  {
   "cell_type": "markdown",
   "metadata": {},
   "source": [
    "---\n",
    "**Operators Arithmetic**\n",
    " \n",
    "An operator is a programming language symbol that performs some operation on one or more values. Certain types of operators include: \n",
    "* Arithmetic operators \n",
    "* Comparison\n",
    "* Logical Operators\n",
    "\n",
    "The values an operator acts on are called operands.\n",
    "* An operator that works on a single operand is called **unary operator**\n",
    "    * `-10`, `+10` \n",
    "* An operator that works on two operands is called **binary operator**\n",
    "* An operator that works on three operands **ternery operator**\n",
    "\n",
    "\n"
   ]
  },
  {
   "cell_type": "markdown",
   "metadata": {},
   "source": [
    "Binary Operators: We can use parenthis to group operations. We may have the option to allow mixed types (int) and (float). We end up with a float in this case. \n",
    "* (+) Addition\n",
    "* (-) Subtraction\n",
    "* (/) Floating point division\n",
    "* (//) Integer division\n",
    "* (**) Power Operator\n",
    "* (%) Modulo \n",
    "    * We can use also things like 2**(-4) we have the same as 1/(2**4)\n",
    "\n",
    "Order of Operations: \n",
    "- P: Parenthesis \n",
    "- E: Exponential \n",
    "- MD: Multiplication & Division\n",
    "- AS: Addition & Subtraction\n",
    "---"
   ]
  },
  {
   "cell_type": "code",
   "execution_count": 17,
   "metadata": {},
   "outputs": [
    {
     "name": "stdout",
     "output_type": "stream",
     "text": [
      "1.5\n",
      "1.123\n",
      "3.3333333333333335\n",
      "0.00390625\n",
      "0.00390625\n",
      "(1.2246467991473532e-16+2j)\n",
      "<class 'complex'>\n"
     ]
    }
   ],
   "source": [
    "# Arithemtic Operators\n",
    "print(0.5 + 1)\n",
    "print(0.123 + 1.0)\n",
    "print(10/3)\n",
    "print(2**(-8))\n",
    "print(1/(2**8))\n",
    "print((-4)**0.5) # Complex Numbers\n",
    "print(type((-4)**0.5))"
   ]
  },
  {
   "cell_type": "code",
   "execution_count": 18,
   "metadata": {},
   "outputs": [
    {
     "name": "stdout",
     "output_type": "stream",
     "text": [
      "1\n",
      "0\n"
     ]
    }
   ],
   "source": [
    "# The modulo operation is used to get the remainder: \n",
    "print(3%2) # Odd number \n",
    "print(4%2) # Even number \n"
   ]
  },
  {
   "cell_type": "markdown",
   "metadata": {},
   "source": [
    "---\n",
    "**Comparison Operators**\n",
    "* (==) The equality operator yields a BOOL\n",
    "* (!=) Is the not equal operator\n",
    "* <,>,>=,<= \n",
    "\n",
    "If we have exceptions, we get an Exception Error. In Python we can compare ints and floats with eachother. \n",
    "10 <= 10.9 True\n",
    "0.1 + 0.1 + 0.1 == 0.3 -> False. (We do not have finite representation)\n",
    "\n",
    "Membership operators:\n",
    "* `in` or `not in` determines the membership in some collection. \n"
   ]
  },
  {
   "cell_type": "code",
   "execution_count": 25,
   "metadata": {},
   "outputs": [
    {
     "data": {
      "text/plain": [
       "True"
      ]
     },
     "execution_count": 25,
     "metadata": {},
     "output_type": "execute_result"
    }
   ],
   "source": [
    "a = 10 \n",
    "b = 10 \n",
    "\n",
    "a == b"
   ]
  },
  {
   "cell_type": "code",
   "execution_count": 26,
   "metadata": {},
   "outputs": [
    {
     "data": {
      "text/plain": [
       "True"
      ]
     },
     "execution_count": 26,
     "metadata": {},
     "output_type": "execute_result"
    }
   ],
   "source": [
    "c = 10.0\n",
    "a == c"
   ]
  },
  {
   "cell_type": "code",
   "execution_count": 30,
   "metadata": {},
   "outputs": [
    {
     "name": "stdout",
     "output_type": "stream",
     "text": [
      "False\n"
     ]
    },
    {
     "data": {
      "text/plain": [
       "(4305021520, 4349851792)"
      ]
     },
     "execution_count": 30,
     "metadata": {},
     "output_type": "execute_result"
    }
   ],
   "source": [
    "print(a is c) # They have a different memory address\n",
    "id(a), id(c)"
   ]
  },
  {
   "cell_type": "markdown",
   "metadata": {},
   "source": [
    "### Variables in Python \n",
    "A variable in Python is like a variable in mathematics. It is a named symbol that holds a value. \n",
    "* `x=100`\n",
    "* `khalessi_mother_of_dragons`= 1"
   ]
  },
  {
   "cell_type": "code",
   "execution_count": 39,
   "metadata": {},
   "outputs": [
    {
     "name": "stdout",
     "output_type": "stream",
     "text": [
      "23 100\n"
     ]
    }
   ],
   "source": [
    "pyton_is_awsome = 100\n",
    "another_variable = pyton_is_awsome\n",
    "pyton_is_awsome = 23\n",
    "print(pyton_is_awsome, another_variable)\n",
    "all, at, once = 5, 10, 15\n"
   ]
  },
  {
   "cell_type": "code",
   "execution_count": null,
   "metadata": {},
   "outputs": [],
   "source": []
  }
 ],
 "metadata": {
  "kernelspec": {
   "display_name": ".venv",
   "language": "python",
   "name": "python3"
  },
  "language_info": {
   "codemirror_mode": {
    "name": "ipython",
    "version": 3
   },
   "file_extension": ".py",
   "mimetype": "text/x-python",
   "name": "python",
   "nbconvert_exporter": "python",
   "pygments_lexer": "ipython3",
   "version": "3.9.6"
  }
 },
 "nbformat": 4,
 "nbformat_minor": 2
}
